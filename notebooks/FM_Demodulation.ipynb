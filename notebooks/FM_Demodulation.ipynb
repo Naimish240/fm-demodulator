{
 "cells": [
  {
   "cell_type": "code",
   "execution_count": 10,
   "id": "f9d2d8d9-44b3-4c96-9a80-646b1f06a189",
   "metadata": {},
   "outputs": [],
   "source": [
    "from scipy.io import wavfile\n",
    "from scipy.signal import bilinear, lfilter\n",
    "import numpy as np"
   ]
  },
  {
   "cell_type": "code",
   "execution_count": 15,
   "id": "63b70653-9a9e-4a02-b007-ebe8cfc49610",
   "metadata": {},
   "outputs": [],
   "source": [
    "x = np.fromfile('recording.npy', dtype=np.complex128)"
   ]
  },
  {
   "cell_type": "code",
   "execution_count": 16,
   "id": "9c07be05-559a-43a2-9397-4611741d338f",
   "metadata": {},
   "outputs": [],
   "source": [
    "# Demodulation\n",
    "x = np.diff(np.unwrap(np.angle(x)))\n",
    "sample_rate = 250e3\n",
    "\n",
    "# De-emphasis filter, H(s) = 1/(RC*s + 1), implemented as IIR via bilinear transform\n",
    "bz, az = bilinear(1, [75e-6, 1], fs=sample_rate)\n",
    "x = lfilter(bz, az, x)\n",
    "\n",
    "# decimate by 6 to get mono audio\n",
    "x = x[::6]\n",
    "sample_rate_audio = sample_rate/6\n",
    "\n",
    "# normalize volume so its between -1 and +1\n",
    "x /= np.max(np.abs(x))\n",
    "\n",
    "# some machines want int16s\n",
    "x *= 32767\n",
    "x = x.astype(np.int16)\n",
    "\n",
    "# Save to wav file, you can open this in Audacity for example\n",
    "wavfile.write('fm.wav', int(sample_rate_audio), x)"
   ]
  },
  {
   "cell_type": "code",
   "execution_count": null,
   "id": "748b7e00-751d-46a5-8d9c-55f266404cde",
   "metadata": {},
   "outputs": [],
   "source": []
  }
 ],
 "metadata": {
  "kernelspec": {
   "display_name": "Python 3 (ipykernel)",
   "language": "python",
   "name": "python3"
  },
  "language_info": {
   "codemirror_mode": {
    "name": "ipython",
    "version": 3
   },
   "file_extension": ".py",
   "mimetype": "text/x-python",
   "name": "python",
   "nbconvert_exporter": "python",
   "pygments_lexer": "ipython3",
   "version": "3.10.12"
  }
 },
 "nbformat": 4,
 "nbformat_minor": 5
}
